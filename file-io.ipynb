{
 "cells": [
  {
   "cell_type": "markdown",
   "metadata": {},
   "source": [
    "File I/O\n",
    "------"
   ]
  },
  {
   "cell_type": "code",
   "execution_count": 2,
   "metadata": {},
   "outputs": [
    {
     "name": "stdout",
     "output_type": "stream",
     "text": [
      "hello world!\n"
     ]
    }
   ],
   "source": [
    "print(\"hello world!\")"
   ]
  },
  {
   "cell_type": "code",
   "execution_count": 3,
   "metadata": {},
   "outputs": [],
   "source": [
    "iliad_1 = \"\"\"Then thus the king: “Shall I my prize resign\n",
    "With tame content, and thou possess’d of thine?\n",
    "Great as thou art, and like a god in fight,\n",
    "Think not to rob me of a soldier’s right.\n",
    "At thy demand shall I restore the maid?\n",
    "First let the just equivalent be paid;\n",
    "Such as a king might ask; and let it be\n",
    "A treasure worthy her, and worthy me.\"\"\""
   ]
  },
  {
   "cell_type": "code",
   "execution_count": null,
   "metadata": {},
   "outputs": [],
   "source": [
    "filename = \"iliad_1\"\n",
    "\n",
    "with open(f\"./{filename}.txt\", \"w\") as f:\n",
    "    chars = f.write(iliad_1)"
   ]
  },
  {
   "cell_type": "code",
   "execution_count": null,
   "metadata": {},
   "outputs": [],
   "source": [
    "next_lines = \"\"\"Or grant me this, or with a monarch’s claim\n",
    "This hand shall seize some other captive dame.\"\"\"\n",
    "\n",
    "filename = \"iliad_2\"\n",
    "\n",
    "with open(f\"./{filename}.txt\", \"w\") as f:\n",
    "    f.write(iliad_1 + \"\\n\" + next_lines)"
   ]
  },
  {
   "cell_type": "code",
   "execution_count": 8,
   "metadata": {},
   "outputs": [
    {
     "name": "stdout",
     "output_type": "stream",
     "text": [
      "Then thus the king: “Shall I my prize resign\n",
      "With tame content, and thou possess’d of thine?\n",
      "Great as thou art, and like a god in fight,\n",
      "Think not to rob me of a soldier’s right.\n",
      "At thy demand shall I restore the maid?\n",
      "First let the just equivalent be paid;\n",
      "Such as a king might ask; and let it be\n",
      "A treasure worthy her, and worthy me.\n",
      "Or grant me this, or with a monarch’s claim\n",
      "This hand shall seize some other captive dame.\n"
     ]
    }
   ],
   "source": [
    "with open(f\"./{filename}.txt\", \"r\") as f:\n",
    "    all_lines = f.read()\n",
    "\n",
    "print(all_lines)"
   ]
  },
  {
   "cell_type": "code",
   "execution_count": 21,
   "metadata": {},
   "outputs": [],
   "source": [
    "iliad_lines = iliad_1.splitlines()"
   ]
  },
  {
   "cell_type": "code",
   "execution_count": 22,
   "metadata": {},
   "outputs": [],
   "source": [
    "for index in range(len(iliad_lines)):\n",
    "    with open(f\"./iliad_{index}.txt\", \"w\") as f:\n",
    "        f.write(iliad_lines[index])"
   ]
  },
  {
   "cell_type": "code",
   "execution_count": null,
   "metadata": {},
   "outputs": [
    {
     "data": {
      "text/plain": [
       "<generator object Path.glob at 0x71ead4273450>"
      ]
     },
     "execution_count": 33,
     "metadata": {},
     "output_type": "execute_result"
    }
   ],
   "source": [
    "from pathlib import Path\n",
    "\n",
    "out_dir = Path(\"my_files\")\n",
    "\n",
    "outfile = out_dir / Path(\"all_lines.txt\")\n",
    "\n",
    "if not out_dir.exists():\n",
    "    out_dir.mkdir()"
   ]
  },
  {
   "cell_type": "code",
   "execution_count": 50,
   "metadata": {},
   "outputs": [],
   "source": [
    "with open(outfile, \"a\") as a:\n",
    "    for iliad_file in Path(\".\").glob(\"iliad_*.txt\"):\n",
    "        with open(iliad_file, \"r\") as f:\n",
    "            a.write(f.read() + \"\\n\")\n"
   ]
  },
  {
   "cell_type": "code",
   "execution_count": null,
   "metadata": {},
   "outputs": [],
   "source": [
    "from pathlib import Path\n",
    "\n",
    "filename = \"pope-iliad\" \n",
    "\n",
    "#starting to read lines after the gutenberg introductions and ending 1000 lines after\n",
    "start_line = 2069\n",
    "end_line = 3069\n",
    "\n",
    "out_dir = Path(\"ilad_1000_lines\")\n",
    "\n",
    "if not out_dir.exists():\n",
    "    out_dir.mkdir()\n",
    "\n",
    "#reading lines from .txt file\n",
    "with open(f\"./{filename}.txt\", \"r\") as f:\n",
    "    lines = f.readlines()[start_line - 1 : end_line]\n",
    "\n",
    "for index in range(len(lines)):\n",
    "    with open(out_dir / f\"iliad_{index}.txt\", \"w\") as f:\n",
    "        f.write(lines[index])\n",
    "\n"
   ]
  }
 ],
 "metadata": {
  "kernelspec": {
   "display_name": "Python 3",
   "language": "python",
   "name": "python3"
  },
  "language_info": {
   "codemirror_mode": {
    "name": "ipython",
    "version": 3
   },
   "file_extension": ".py",
   "mimetype": "text/x-python",
   "name": "python",
   "nbconvert_exporter": "python",
   "pygments_lexer": "ipython3",
   "version": "3.12.1"
  }
 },
 "nbformat": 4,
 "nbformat_minor": 2
}
