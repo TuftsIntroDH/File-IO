{
 "cells": [
  {
   "cell_type": "markdown",
   "metadata": {},
   "source": [
    "File I/O\n",
    "------"
   ]
  },
  {
   "cell_type": "code",
   "execution_count": 1,
   "metadata": {},
   "outputs": [
    {
     "name": "stdout",
     "output_type": "stream",
     "text": [
      "hello world!\n"
     ]
    }
   ],
   "source": [
    "print(\"hello world!\")"
   ]
  },
  {
   "cell_type": "code",
   "execution_count": 2,
   "metadata": {},
   "outputs": [],
   "source": [
    "iliad_1 = \"\"\"Then thus the king: “Shall I my prize resign\n",
    "With tame content, and thou possess’d of thine?\n",
    "Great as thou art, and like a god in fight,\n",
    "Think not to rob me of a soldier’s right.\n",
    "At thy demand shall I restore the maid?\n",
    "First let the just equivalent be paid;\n",
    "Such as a king might ask; and let it be\n",
    "A treasure worthy her, and worthy me.\"\"\""
   ]
  },
  {
   "cell_type": "code",
   "execution_count": 3,
   "metadata": {},
   "outputs": [],
   "source": [
    "filename = \"iliad_1\"\n",
    "\n",
    "with open(f\"./{filename}.txt\", \"w\") as f:\n",
    "    chars = f.write(iliad_1)"
   ]
  },
  {
   "cell_type": "code",
   "execution_count": null,
   "metadata": {},
   "outputs": [],
   "source": [
    "next_lines = \"\"\"Or grant me this, or with a monarch’s claim\n",
    "This hand shall seize some other captive dame.\"\"\"\n",
    "\n",
    "filename = \"iliad_2\"\n",
    "  \n",
    "with open(f\"./{filename}.txt\", \"w\") as f:\n",
    "    f.write(iliad_1 + \"\\n\" + next_lines)"
   ]
  },
  {
   "cell_type": "code",
   "execution_count": 5,
   "metadata": {},
   "outputs": [
    {
     "name": "stdout",
     "output_type": "stream",
     "text": [
      "Then thus the king: “Shall I my prize resign\n",
      "With tame content, and thou possess’d of thine?\n",
      "Great as thou art, and like a god in fight,\n",
      "Think not to rob me of a soldier’s right.\n",
      "At thy demand shall I restore the maid?\n",
      "First let the just equivalent be paid;\n",
      "Such as a king might ask; and let it be\n",
      "A treasure worthy her, and worthy me.\n",
      "Or grant me this, or with a monarch’s claim\n",
      "This hand shall seize some other captive dame.\n"
     ]
    }
   ],
   "source": [
    "with open(f\"./{filename}.txt\", \"r\") as f:\n",
    "    all_lines = f.read()\n",
    "\n",
    "print(all_lines)"
   ]
  },
  {
   "cell_type": "code",
   "execution_count": 6,
   "metadata": {},
   "outputs": [],
   "source": [
    "iliad_lines = iliad_1.splitlines()"
   ]
  },
  {
   "cell_type": "code",
   "execution_count": 7,
   "metadata": {},
   "outputs": [],
   "source": [
    "for index in range(len(iliad_lines)):\n",
    "    with open(f\"./iliad_{index}.txt\", \"w\") as f:\n",
    "        f.write(iliad_lines[index])"
   ]
  },
  {
   "cell_type": "code",
   "execution_count": 4,
   "metadata": {},
   "outputs": [],
   "source": [
    "from pathlib import Path\n",
    "\n",
    "out_dir = Path(\"intro_dh-iliad_pope\")\n",
    "\n",
    "outfile = out_dir / Path(\"all_lines.txt\")\n",
    "\n",
    "if not out_dir.exists():\n",
    "    out_dir.mkdir()"
   ]
  },
  {
   "cell_type": "code",
   "execution_count": 5,
   "metadata": {},
   "outputs": [],
   "source": [
    "# with open(outfile, \"a\") as a:\n",
    "#     for iliad_file in Path(\".\").glob(\"iliad_*.txt\"):\n",
    "#         with open(iliad_file, \"r\") as f:\n",
    "#             a.write(f.read() + \"\\n\")\n",
    "with open(\"pope-iliad.txt\", \"r\") as file:\n",
    "    lines = file.readlines()\n",
    "\n",
    "selected_line = lines[:1000]\n",
    "\n",
    "for i, line in enumerate(selected_line):\n",
    "    file_path = out_dir / f\"line_{i + 1}.txt\"\n",
    "    with open(file_path, \"w\") as f:\n",
    "        f.write(line.strip())\n",
    "\n"
   ]
  }
 ],
 "metadata": {
  "kernelspec": {
   "display_name": "Python 3",
   "language": "python",
   "name": "python3"
  },
  "language_info": {
   "codemirror_mode": {
    "name": "ipython",
    "version": 3
   },
   "file_extension": ".py",
   "mimetype": "text/x-python",
   "name": "python",
   "nbconvert_exporter": "python",
   "pygments_lexer": "ipython3",
   "version": "3.12.1"
  }
 },
 "nbformat": 4,
 "nbformat_minor": 2
}
